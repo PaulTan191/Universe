{
 "cells": [
  {
   "cell_type": "code",
   "execution_count": 1,
   "metadata": {},
   "outputs": [],
   "source": [
    "from numpy import sin, cos\n",
    "import numpy as np\n",
    "import matplotlib.pyplot as plt\n",
    "import scipy.integrate as integrate\n",
    "import matplotlib.animation as animation\n",
    "from collections import deque\n",
    "import matplotlib.cm as cm"
   ]
  },
  {
   "cell_type": "code",
   "execution_count": 17,
   "metadata": {},
   "outputs": [],
   "source": [
    "Rsun = 0\n",
    "Re = 147.49e9\n",
    "Msun = 2.0e30\n",
    "Me = 6.0e24\n",
    "G = 6.67e-11\n",
    "p = 1.8e29\n",
    "\n",
    "mball = 10\n",
    "\n",
    "x_s0 = Rsun\n",
    "y_s0 = 0\n",
    "x_e0 = Re\n",
    "y_e0 = 0\n",
    "\n",
    "def iterate(n,dt):\n",
    "    \n",
    "    sunx = [x_s0]\n",
    "    suny = [y_s0]\n",
    "    \n",
    "    earthx = [x_e0]\n",
    "    earthy = [y_e0]\n",
    "    \n",
    "    sunpx = [0]\n",
    "    sunpy = [0]\n",
    "    \n",
    "    earthpx = [0]\n",
    "    earthpy = [p]\n",
    "    \n",
    "    \n",
    "    x_s = x_s0\n",
    "    y_s = y_s0\n",
    "    \n",
    "    x_e = x_e0\n",
    "    y_e = y_e0\n",
    "    \n",
    "    \n",
    "    for i in range(0,n):\n",
    "    \n",
    "        d = np.sqrt((sunx[i]-earthx[i])**2+(suny[i]-earthy[i])**2)\n",
    "        f_scale = - G * Msun * Me/d**3\n",
    "\n",
    "        fx = f_scale*(sunx[i]-earthx[i])\n",
    "        fy = f_scale*(suny[i]-earthy[i])\n",
    "\n",
    "        \n",
    "\n",
    "        sunpx.append(fx*dt + sunpx[i])\n",
    "        earthpx.append(-fx*dt + earthpx[i])\n",
    "        \n",
    "        sunx.append(sunpx[i]*dt/Msun+sunx[i])\n",
    "        earthx.append(earthpx[i]*dt/Me+earthx[i])\n",
    "        \n",
    "        sunpy.append(fy*dt + sunpy[i])\n",
    "        earthpy.append(-fy*dt + earthpy[i])\n",
    "        \n",
    "        suny.append(sunpy[i]*dt/Msun+suny[i])\n",
    "        earthy.append(earthpy[i]*dt/Me+earthy[i])\n",
    "    \n",
    "    \n",
    "\n",
    "    return earthx,earthy,sunx,suny,earthpx,earthpy,sunpx,sunpy\n",
    "\n",
    "\n",
    "x0 = Re-1.45e9\n",
    "y0 = 0\n",
    "\n",
    "# This is essentially a time dependent potential defined\n",
    "# by gfield - which depends upon the moving positions of the \n",
    "# Earth and the Sun\n",
    "def iterate2(n,dt):\n",
    "    gfield = iterate(n,dt)\n",
    "    \n",
    "    ballx = [x0]\n",
    "    bally = [y0]\n",
    "    \n",
    "    ballpx = [0]\n",
    "    \n",
    "    # To ensure equal angular momentum as earth    \n",
    "    ballpy = [((147.49-1.45)/(147))*1.8e29*(mball/Me)]\n",
    "    \n",
    "    for i in range(0,n):\n",
    "        dsun = np.sqrt((ballx[i]-gfield[2][i])**2+(bally[i]-gfield[3][i])**2)\n",
    "        dearth = np.sqrt((ballx[i]-gfield[0][i])**2+(bally[i]-gfield[1][i])**2)\n",
    "\n",
    "        #f_scale =  G * Msun * mball/dsun**3+ G * mball * Me/dearth**3\n",
    "        fx = (G * Msun * mball/dsun**3)*(ballx[i]-gfield[2][i])+(G * mball * Me/dearth**3)*(ballx[i]-gfield[0][i])\n",
    "        fy = (G * Msun * mball/dsun**3)*(bally[i]-gfield[3][i])+(G * mball * Me/dearth**3)*(bally[i]-gfield[1][i])\n",
    "\n",
    "        ballpx.append(-fx*dt + ballpx[i])\n",
    "        ballpy.append(-fy*dt + ballpy[i])\n",
    "\n",
    "\n",
    "        ballx.append(ballpx[i]*dt/mball+ballx[i])\n",
    "        bally.append(ballpy[i]*dt/mball+bally[i])\n",
    "    return ballx,bally,gfield[0],gfield[1],gfield[2],gfield[3]\n",
    "    \n",
    "\n",
    "\n",
    "#iterate(3000,1/30)\n",
    "#graph = iterate(10**6,100)\n",
    "\n",
    "graph2 = iterate2(10**6,1000)\n",
    "\n"
   ]
  },
  {
   "cell_type": "code",
   "execution_count": 22,
   "metadata": {},
   "outputs": [
    {
     "name": "stderr",
     "output_type": "stream",
     "text": [
      "C:\\Users\\Paul Tan\\anaconda3\\lib\\site-packages\\IPython\\core\\pylabtools.py:132: UserWarning: Creating legend with loc=\"best\" can be slow with large amounts of data.\n",
      "  fig.canvas.print_figure(bytes_io, **kw)\n"
     ]
    },
    {
     "data": {
      "image/png": "[encoded data removed]",
      "text/plain": [
       "<Figure size 432x288 with 1 Axes>"
      ]
     },
     "metadata": {
      "needs_background": "light"
     },
     "output_type": "display_data"
    }
   ],
   "source": [
    "plt.plot(graph2[2],graph2[3])\n",
    "plt.plot(graph2[4],graph2[5],\"-k\")\n",
    "\n",
    "plt.plot(graph2[0],graph2[1],\"-r\")\n",
    "plt.xlim([-2e11,2e11])\n",
    "plt.ylim([-2e11,2e11])\n",
    "plt.legend([\"Earth\",\"Sun\",\"Object Three\"])\n",
    "plt.savefig(\"esun.png\")\n",
    "\n",
    "plt.show()\n"
   ]
  },
  {
   "cell_type": "code",
   "execution_count": 19,
   "metadata": {},
   "outputs": [
    {
     "data": {
      "image/png": "[encoded data removed]",
      "text/plain": [
       "<Figure size 432x288 with 1 Axes>"
      ]
     },
     "metadata": {
      "needs_background": "light"
     },
     "output_type": "display_data"
    },
    {
     "name": "stderr",
     "output_type": "stream",
     "text": [
      "MovieWriter ffmpeg unavailable; using Pillow instead.\n"
     ]
    }
   ],
   "source": [
    "fig = plt.figure()\n",
    "\n",
    "ax = fig.add_subplot(111,xlim=([-2e11,2e11]),ylim=([-2e11,2e11]))\n",
    "ax.grid()\n",
    "circle = plt.Circle((x_s0, y_s0), radius=2e10, fc='r')\n",
    "circle2 = plt.Circle((x_e0, y_e0), radius=10e9, fc='b')\n",
    "circle3 = plt.Circle((0, 0), radius=5e9, fc='g')\n",
    "#time_template = 'time = %.1fs'\n",
    "#time_text = ax.text(0.05, 0.9, '', transform=ax.transAxes)\n",
    "plt.xlim([-2e11,2e11])\n",
    "plt.ylim([-2e11,2e11])\n",
    "def init():\n",
    "    circle.center = (x_s0,y_s0)\n",
    "    circle2.center = (x_e0,y_e0)\n",
    "    circle3.center = (Re+1.5e9,y_e0)\n",
    "    ax.add_patch(circle)\n",
    "    ax.add_patch(circle2)\n",
    "    ax.add_patch(circle3)\n",
    "    \n",
    "    \n",
    "    return circle, circle2, circle3,\n",
    "\n",
    "speedup = 200\n",
    "\n",
    "def animate(i):\n",
    "    thisx = [graph2[0][speedup*i], graph2[2][speedup*i], graph2[4][speedup*i]]\n",
    "    thisy = [graph2[1][speedup*i], graph2[3][speedup*i], graph2[5][speedup*i]]\n",
    "\n",
    "   # print(thisx[2])\n",
    "    #print(thisy[2])\n",
    "    circle.center = (thisx[2], thisy[2])\n",
    "    circle2.center = (thisx[1], thisy[1])\n",
    "    circle3.center = (thisx[0], thisy[0])\n",
    "    #time_text.set_text(time_template % (i*dt))\n",
    "    return circle, circle2, circle3,\n",
    "ani = animation.FuncAnimation(fig, animate, np.arange(1, 500),interval=25, blit=True,init_func = init)\n",
    "plt.show()\n",
    "ani.save(\"Animation.gif\")"
   ]
  },
  {
   "cell_type": "code",
   "execution_count": 83,
   "metadata": {},
   "outputs": [
    {
     "name": "stdout",
     "output_type": "stream",
     "text": [
      "<class 'int'>\n"
     ]
    }
   ],
   "source": [
    "print(type(graph[2]))\n"
   ]
  },
  {
   "cell_type": "code",
   "execution_count": 138,
   "metadata": {},
   "outputs": [
    {
     "data": {
      "text/plain": [
       "\u001b[1;31mInit signature:\u001b[0m\n",
       "\u001b[0manimation\u001b[0m\u001b[1;33m.\u001b[0m\u001b[0mFuncAnimation\u001b[0m\u001b[1;33m(\u001b[0m\u001b[1;33m\n",
       "\u001b[0m    \u001b[0mfig\u001b[0m\u001b[1;33m,\u001b[0m\u001b[1;33m\n",
       "\u001b[0m    \u001b[0mfunc\u001b[0m\u001b[1;33m,\u001b[0m\u001b[1;33m\n",
       "\u001b[0m    \u001b[0mframes\u001b[0m\u001b[1;33m=\u001b[0m\u001b[1;32mNone\u001b[0m\u001b[1;33m,\u001b[0m\u001b[1;33m\n",
       "\u001b[0m    \u001b[0minit_func\u001b[0m\u001b[1;33m=\u001b[0m\u001b[1;32mNone\u001b[0m\u001b[1;33m,\u001b[0m\u001b[1;33m\n",
       "\u001b[0m    \u001b[0mfargs\u001b[0m\u001b[1;33m=\u001b[0m\u001b[1;32mNone\u001b[0m\u001b[1;33m,\u001b[0m\u001b[1;33m\n",
       "\u001b[0m    \u001b[0msave_count\u001b[0m\u001b[1;33m=\u001b[0m\u001b[1;32mNone\u001b[0m\u001b[1;33m,\u001b[0m\u001b[1;33m\n",
       "\u001b[0m    \u001b[1;33m*\u001b[0m\u001b[1;33m,\u001b[0m\u001b[1;33m\n",
       "\u001b[0m    \u001b[0mcache_frame_data\u001b[0m\u001b[1;33m=\u001b[0m\u001b[1;32mTrue\u001b[0m\u001b[1;33m,\u001b[0m\u001b[1;33m\n",
       "\u001b[0m    \u001b[1;33m**\u001b[0m\u001b[0mkwargs\u001b[0m\u001b[1;33m,\u001b[0m\u001b[1;33m\n",
       "\u001b[0m\u001b[1;33m)\u001b[0m\u001b[1;33m\u001b[0m\u001b[1;33m\u001b[0m\u001b[0m\n",
       "\u001b[1;31mDocstring:\u001b[0m     \n",
       "Makes an animation by repeatedly calling a function *func*.\n",
       "\n",
       "Parameters\n",
       "----------\n",
       "fig : `~matplotlib.figure.Figure`\n",
       "    The figure object used to get needed events, such as draw or resize.\n",
       "\n",
       "func : callable\n",
       "    The function to call at each frame.  The first argument will\n",
       "    be the next value in *frames*.   Any additional positional\n",
       "    arguments can be supplied via the *fargs* parameter.\n",
       "\n",
       "    The required signature is::\n",
       "\n",
       "        def func(frame, *fargs) -> iterable_of_artists\n",
       "\n",
       "    If ``blit == True``, *func* must return an iterable of all artists\n",
       "    that were modified or created. This information is used by the blitting\n",
       "    algorithm to determine which parts of the figure have to be updated.\n",
       "    The return value is unused if ``blit == False`` and may be omitted in\n",
       "    that case.\n",
       "\n",
       "frames : iterable, int, generator function, or None, optional\n",
       "    Source of data to pass *func* and each frame of the animation\n",
       "\n",
       "    - If an iterable, then simply use the values provided.  If the\n",
       "      iterable has a length, it will override the *save_count* kwarg.\n",
       "\n",
       "    - If an integer, then equivalent to passing ``range(frames)``\n",
       "\n",
       "    - If a generator function, then must have the signature::\n",
       "\n",
       "         def gen_function() -> obj\n",
       "\n",
       "    - If *None*, then equivalent to passing ``itertools.count``.\n",
       "\n",
       "    In all of these cases, the values in *frames* is simply passed through\n",
       "    to the user-supplied *func* and thus can be of any type.\n",
       "\n",
       "init_func : callable, optional\n",
       "    A function used to draw a clear frame. If not given, the results of\n",
       "    drawing from the first item in the frames sequence will be used. This\n",
       "    function will be called once before the first frame.\n",
       "\n",
       "    The required signature is::\n",
       "\n",
       "        def init_func() -> iterable_of_artists\n",
       "\n",
       "    If ``blit == True``, *init_func* must return an iterable of artists\n",
       "    to be re-drawn. This information is used by the blitting algorithm to\n",
       "    determine which parts of the figure have to be updated.  The return\n",
       "    value is unused if ``blit == False`` and may be omitted in that case.\n",
       "\n",
       "fargs : tuple or None, optional\n",
       "    Additional arguments to pass to each call to *func*.\n",
       "\n",
       "save_count : int, default: 100\n",
       "    Fallback for the number of values from *frames* to cache. This is\n",
       "    only used if the number of frames cannot be inferred from *frames*,\n",
       "    i.e. when it's an iterator without length or a generator.\n",
       "\n",
       "interval : int, default: 200\n",
       "    Delay between frames in milliseconds.\n",
       "\n",
       "repeat_delay : int, default: 0\n",
       "    The delay in milliseconds between consecutive animation runs, if\n",
       "    *repeat* is True.\n",
       "\n",
       "repeat : bool, default: True\n",
       "    Whether the animation repeats when the sequence of frames is completed.\n",
       "\n",
       "blit : bool, default: False\n",
       "    Whether blitting is used to optimize drawing.  Note: when using\n",
       "    blitting, any animated artists will be drawn according to their zorder;\n",
       "    however, they will be drawn on top of any previous artists, regardless\n",
       "    of their zorder.\n",
       "\n",
       "cache_frame_data : bool, default: True\n",
       "    Whether frame data is cached.  Disabling cache might be helpful when\n",
       "    frames contain large objects.\n",
       "\u001b[1;31mFile:\u001b[0m           c:\\users\\paul tan\\anaconda3\\lib\\site-packages\\matplotlib\\animation.py\n",
       "\u001b[1;31mType:\u001b[0m           type\n",
       "\u001b[1;31mSubclasses:\u001b[0m     \n"
      ]
     },
     "metadata": {},
     "output_type": "display_data"
    }
   ],
   "source": [
    "animation.FuncAnimation?\n"
   ]
  },
  {
   "cell_type": "code",
   "execution_count": null,
   "metadata": {},
   "outputs": [],
   "source": []
  }
 ],
 "metadata": {
  "kernelspec": {
   "display_name": "Python 3",
   "language": "python",
   "name": "python3"
  },
  "language_info": {
   "codemirror_mode": {
    "name": "ipython",
    "version": 3
   },
   "file_extension": ".py",
   "mimetype": "text/x-python",
   "name": "python",
   "nbconvert_exporter": "python",
   "pygments_lexer": "ipython3",
   "version": "3.8.5"
  }
 },
 "nbformat": 4,
 "nbformat_minor": 4
}
